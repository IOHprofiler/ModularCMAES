{
 "cells": [
  {
   "cell_type": "code",
   "execution_count": 1,
   "metadata": {},
   "outputs": [
    {
     "name": "stdout",
     "output_type": "stream",
     "text": [
      "9, 8, 5, 4, 1, 0, 7, 6, 3, 2, "
     ]
    }
   ],
   "source": [
    "import numpy as np\n",
    "import random, math\n",
    "\n",
    "\n",
    "class Shuffler:\n",
    "    def __init__(self, start, stop=None):\n",
    "        if stop == None:\n",
    "            start, stop = 0, start\n",
    "        self.stop = stop\n",
    "        self.start = start\n",
    "        self.n = stop - start\n",
    "        \n",
    "        self.seed = random.randint(0, self.n)\n",
    "        self.offset = random.randint(0, self.n) * 2 + 1\n",
    "        self.multiplier = 4 * (self.n // 4) + 1\n",
    "        self.modulus = int(2 ** math.ceil(math.log2(self.n)))\n",
    "        self.found = 0\n",
    "\n",
    "    def __iter__(self):\n",
    "        self.found = 0\n",
    "        return self\n",
    "\n",
    "    def advance(self):\n",
    "        while True:\n",
    "            self.seed = (self.seed * self.multiplier + self.offset) % self.modulus\n",
    "            if self.seed < self.n:\n",
    "                break\n",
    "    \n",
    "    def __next__(self):\n",
    "        if self.found < self.n:\n",
    "            if self.found > 0:\n",
    "                self.advance()\n",
    "            self.found += 1\n",
    "            return self.seed + self.start\n",
    "        raise StopIteration\n",
    "    \n",
    "sp = Shuffler(10)\n",
    "for c in sp:\n",
    "    print(c, end=\", \")\n",
    "    "
   ]
  },
  {
   "cell_type": "code",
   "execution_count": 2,
   "metadata": {},
   "outputs": [],
   "source": [
    "from modcma.c_maes import utils "
   ]
  },
  {
   "cell_type": "code",
   "execution_count": 1,
   "metadata": {},
   "outputs": [
    {
     "ename": "NameError",
     "evalue": "name 'utils' is not defined",
     "output_type": "error",
     "traceback": [
      "\u001b[0;31m---------------------------------------------------------------------------\u001b[0m",
      "\u001b[0;31mNameError\u001b[0m                                 Traceback (most recent call last)",
      "Cell \u001b[0;32mIn[1], line 1\u001b[0m\n\u001b[0;32m----> 1\u001b[0m s \u001b[38;5;241m=\u001b[39m \u001b[43mutils\u001b[49m\u001b[38;5;241m.\u001b[39mShuffler(\u001b[38;5;241m4\u001b[39m, \u001b[38;5;241m5\u001b[39m) \n\u001b[1;32m      3\u001b[0m \u001b[38;5;28;01mfor\u001b[39;00m _ \u001b[38;5;129;01min\u001b[39;00m \u001b[38;5;28mrange\u001b[39m(\u001b[38;5;241m10\u001b[39m):\n\u001b[1;32m      4\u001b[0m     \u001b[38;5;28mprint\u001b[39m(s\u001b[38;5;241m.\u001b[39mnext(), end\u001b[38;5;241m=\u001b[39m\u001b[38;5;124m\"\u001b[39m\u001b[38;5;124m, \u001b[39m\u001b[38;5;124m\"\u001b[39m)\n",
      "\u001b[0;31mNameError\u001b[0m: name 'utils' is not defined"
     ]
    }
   ],
   "source": [
    "s = utils.Shuffler(4, 5) \n",
    "\n",
    "for _ in range(10):\n",
    "    print(s.next(), end=\", \")"
   ]
  },
  {
   "cell_type": "code",
   "execution_count": 4,
   "metadata": {},
   "outputs": [
    {
     "data": {
      "text/plain": [
       "0"
      ]
     },
     "execution_count": 4,
     "metadata": {},
     "output_type": "execute_result"
    }
   ],
   "source": [
    "s.seed"
   ]
  },
  {
   "cell_type": "code",
   "execution_count": null,
   "metadata": {},
   "outputs": [],
   "source": []
  }
 ],
 "metadata": {
  "kernelspec": {
   "display_name": "venv",
   "language": "python",
   "name": "python3"
  },
  "language_info": {
   "codemirror_mode": {
    "name": "ipython",
    "version": 3
   },
   "file_extension": ".py",
   "mimetype": "text/x-python",
   "name": "python",
   "nbconvert_exporter": "python",
   "pygments_lexer": "ipython3",
   "version": "3.10.12"
  }
 },
 "nbformat": 4,
 "nbformat_minor": 2
}
