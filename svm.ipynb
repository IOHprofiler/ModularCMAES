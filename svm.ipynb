{
 "cells": [
  {
   "cell_type": "code",
   "execution_count": 1,
   "metadata": {},
   "outputs": [],
   "source": [
    "from scipy.stats import qmc\n",
    "from modcma import ModularCMAES, Parameters\n",
    "import ioh\n",
    "import numpy as np\n",
    "from sklearn.svm import SVC\n",
    "import matplotlib.pyplot as plt\n",
    "import sympy"
   ]
  },
  {
   "cell_type": "code",
   "execution_count": 2,
   "metadata": {},
   "outputs": [],
   "source": [
    "problem_id = 3\n",
    "problem_instance = 1\n",
    "dimension = 4\n",
    "# lambdas = [20, 20, 20, 20, 20]\n",
    "# lambdas = [25, 25, 25, 25]\n",
    "lambdas = [33,33,33]\n",
    "# lambdas = [50, 50]\n",
    "budget = int(dimension * 1e4)\n",
    "iterations = 1000"
   ]
  },
  {
   "cell_type": "code",
   "execution_count": 3,
   "metadata": {},
   "outputs": [],
   "source": [
    "problem = ioh.get_problem(fid=problem_id, instance=problem_instance, dimension=dimension, problem_type=ioh.ProblemType.BBOB)\n",
    "CMAESs = []"
   ]
  },
  {
   "cell_type": "code",
   "execution_count": 6,
   "metadata": {},
   "outputs": [
    {
     "name": "stdout",
     "output_type": "stream",
     "text": [
      "[[ 1.07446367 -3.76496802  0.37356156  4.10808921]\n",
      " [-1.844852   -3.7036209   4.18713062 -4.36709307]\n",
      " [ 4.28945162  0.81012235  1.33831519 -1.97803854]] [1, 2, 3]\n"
     ]
    }
   ],
   "source": [
    "# x0 = np.float64(qmc.scale(qmc.LatinHypercube(d=problem.meta_data.n_variables).random(n=len(lambdas)), l_bounds=problem.bounds.lb, u_bounds=problem.bounds.ub))#.reshape((len(lambdas), problem.meta_data.n_variables, 1))\n",
    "x0 = np.random.uniform(-5, 5, (len(lambdas), dimension))\n",
    "# x0 = points = np.array([[-4, -4], [-4, 0], [-4, 4], [0, -4], [0, 0], [0, 4], [4, -4], [4, 0], [4, 4]])\n",
    "# x0 = points = np.array([[-4, -4], [-4, 4], [4, -4], [4, 4]])\n",
    "labels = [n for n in range(1, len(lambdas)+1)]\n",
    "print(x0, labels)"
   ]
  },
  {
   "cell_type": "code",
   "execution_count": 5,
   "metadata": {},
   "outputs": [
    {
     "data": {
      "text/plain": [
       "((3, 4),\n",
       " array([[-4.93226699,  1.05033961,  4.28043366],\n",
       "        [ 0.11844398,  2.97817144, -3.90274651],\n",
       "        [ 3.5705001 , -1.19071477,  0.39890047],\n",
       "        [-2.79480057,  0.62435591,  3.80772633]]))"
      ]
     },
     "execution_count": 5,
     "metadata": {},
     "output_type": "execute_result"
    }
   ],
   "source": [
    "x0.shape, x0.T"
   ]
  },
  {
   "cell_type": "code",
   "execution_count": 7,
   "metadata": {},
   "outputs": [],
   "source": [
    "svm = SVC(kernel='linear').fit(X=x0, y=labels)"
   ]
  },
  {
   "cell_type": "code",
   "execution_count": 9,
   "metadata": {},
   "outputs": [
    {
     "data": {
      "text/plain": [
       "(array([[ 0.06152521, -0.0012929 , -0.0803718 ,  0.17861631],\n",
       "        [-0.09286599, -0.13215299, -0.02786723,  0.1757998 ],\n",
       "        [-0.170808  , -0.12568394,  0.07932448, -0.06652257]]),\n",
       " array([ 0.22527772, -0.10956184, -0.40325335]))"
      ]
     },
     "execution_count": 9,
     "metadata": {},
     "output_type": "execute_result"
    }
   ],
   "source": [
    "svm.coef_, svm.intercept_"
   ]
  },
  {
   "cell_type": "code",
   "execution_count": null,
   "metadata": {},
   "outputs": [],
   "source": [
    "x0 = x0.reshape((len(lambdas), problem.meta_data.n_variables, 1))\n",
    "print(x0.shape, x0)\n",
    "for i in range(len(lambdas)):\n",
    "    # print(lambdas[i], lambdas[i], x0[i], budget)\n",
    "    CMAESs.append(\n",
    "        ModularCMAES(\n",
    "            problem,\n",
    "            parameters=Parameters(\n",
    "                d=problem.meta_data.n_variables,\n",
    "                lambda_=lambdas[i],\n",
    "                mu=lambdas[i],\n",
    "                x0=x0[i],\n",
    "                sigma0=0.2,\n",
    "                budget=budget,\n",
    "                initialization_correction=\"voronoi\",\n",
    "                bound_correction='mirror',\n",
    "                area_corr=svm,\n",
    "                subpopulation_target=labels[i]\n",
    "            ),\n",
    "        )\n",
    "    )\n"
   ]
  },
  {
   "cell_type": "code",
   "execution_count": null,
   "metadata": {},
   "outputs": [],
   "source": [
    "centroids_track = []"
   ]
  },
  {
   "cell_type": "code",
   "execution_count": null,
   "metadata": {},
   "outputs": [],
   "source": [
    "centroids = np.float64([CMAESs[n].parameters.m.reshape((2,)) for n in range(len(lambdas))])\n",
    "centroids"
   ]
  },
  {
   "cell_type": "code",
   "execution_count": null,
   "metadata": {},
   "outputs": [],
   "source": [
    "def closest_point(coefs: np.ndarray, centroid: np.ndarray, new_point: np.ndarray):\n",
    "    S = symbols([l for l,_ in zip(ascii_letters, range(len(centroid)))])\n",
    "    St = S\n",
    "    T = symbols('T')\n",
    "    St.append(T)\n",
    "    f = 0\n",
    "    intersections, distances = [], []\n",
    "    for coef, intercept in coefs:\n",
    "        f = 0\n",
    "        for s, v in zip(St, coef):\n",
    "            print(s, v)\n",
    "            f += v*s\n",
    "        f = Eq((f), intercept)\n",
    "        # solve for vector\n",
    "        t = centroid - new_point\n",
    "        t_functions = [f]\n",
    "        for i in range(len(t)):\n",
    "            f_t = Eq((new_point[i] + T*t[i]), S[i])\n",
    "            t_functions.append(f_t)\n",
    "        print(t_functions)\n",
    "        values = solve((t_functions), tuple(St))\n",
    "        print(values)\n",
    "        intersection = np.float64([values[k] for k in S])\n",
    "        intersections.append(intersection)\n",
    "        distances.append(np.linalg.norm(centroid - intersection))\n",
    "    j = np.argmin(distances)\n",
    "    plane = coefs[j]\n",
    "    intersection = intersections[j]\n",
    "    vector = new_point - intersection\n",
    "\n",
    "    # perform projection\n",
    "    pj = -np.dot(plane, vector) / np.dot(plane, plane)\n",
    "    pj_point = plane * pj + new_point"
   ]
  },
  {
   "cell_type": "code",
   "execution_count": null,
   "metadata": {},
   "outputs": [],
   "source": [
    "voronoi = Voronoi(centroids)\n",
    "print(voronoi.point_region)\n",
    "\n",
    "for n in range(len(lambdas)):\n",
    "    CMAESs[n].parameters.area_corr = voronoi\n",
    "    CMAESs[n].parameters.subpopulation_target = voronoi.point_region[n]\n",
    "\n",
    "for n in range(len(lambdas)):\n",
    "    CMAESs[n].step()"
   ]
  },
  {
   "cell_type": "code",
   "execution_count": null,
   "metadata": {},
   "outputs": [],
   "source": [
    "temp = np.float64([CMAESs[n].parameters.population.x for n in range(len(lambdas))])\n",
    "sub_pops_points = [None]*len(lambdas)\n",
    "for n in range(len(lambdas)):\n",
    "    sub_pops_points[n] = temp[n].T\n",
    "fig = voronoi_plot_2d(voronoi, show_points=False)\n",
    "plt.xlim(-5, 5)\n",
    "plt.ylim(-5, 5)\n",
    "plt.scatter(x0[0,0], x0[0,1], label='1')\n",
    "plt.scatter(x0[1,0], x0[1,1], label='2')\n",
    "plt.scatter(x0[2,0], x0[2,1], label='3')\n",
    "plt.scatter(x0[3,0], x0[3,1], label='4')\n",
    "# plt.scatter(test_point[0], test_point[1], label='test')\n",
    "for n in range(len(lambdas)):\n",
    "    plt.scatter(sub_pops_points[n][:,0], sub_pops_points[n][:,1])\n",
    "plt.legend()\n",
    "plt.show()"
   ]
  },
  {
   "cell_type": "code",
   "execution_count": null,
   "metadata": {},
   "outputs": [],
   "source": [
    "for _ in range(999):\n",
    "    print(_)\n",
    "    voronoi = Voronoi(centroids)\n",
    "    print(voronoi.point_region)\n",
    "\n",
    "    for n in range(len(lambdas)):\n",
    "        CMAESs[n].parameters.area_corr = voronoi\n",
    "        CMAESs[n].parameters.subpopulation_target = voronoi.point_region[n]\n",
    "\n",
    "    for n in range(len(lambdas)):\n",
    "        CMAESs[n].step()"
   ]
  },
  {
   "cell_type": "code",
   "execution_count": null,
   "metadata": {},
   "outputs": [],
   "source": [
    "temp = np.float64([CMAESs[n].parameters.population.x for n in range(len(lambdas))])\n",
    "sub_pops_points = [None]*len(lambdas)\n",
    "for n in range(len(lambdas)):\n",
    "    sub_pops_points[n] = temp[n].T\n",
    "fig = voronoi_plot_2d(voronoi, show_points=False)\n",
    "plt.xlim(-5, 5)\n",
    "plt.ylim(-5, 5)\n",
    "plt.scatter(x0[0,0], x0[0,1], label='1')\n",
    "plt.scatter(x0[1,0], x0[1,1], label='2')\n",
    "plt.scatter(x0[2,0], x0[2,1], label='3')\n",
    "plt.scatter(x0[3,0], x0[3,1], label='4')\n",
    "# plt.scatter(test_point[0], test_point[1], label='test')\n",
    "for n in range(len(lambdas)):\n",
    "    plt.scatter(sub_pops_points[n][:,0], sub_pops_points[n][:,1])\n",
    "plt.legend()\n",
    "plt.show()"
   ]
  },
  {
   "cell_type": "code",
   "execution_count": null,
   "metadata": {},
   "outputs": [],
   "source": [
    "raise"
   ]
  },
  {
   "cell_type": "code",
   "execution_count": null,
   "metadata": {},
   "outputs": [],
   "source": [
    "temp = np.float64([CMAESs[n].parameters.population.x for n in range(len(lambdas))])\n",
    "sub_pops_points = [None]*len(lambdas)\n",
    "for n in range(len(lambdas)):\n",
    "    sub_pops_points[n] = temp[n].T\n",
    "plt.xlim(-5, 5)\n",
    "plt.ylim(-5, 5)\n",
    "xx, yy = np.meshgrid(np.arange(-6, 6, .2), np.arange(-6, 6, .2))\n",
    "Z = svc.predict(np.c_[xx.ravel(), yy.ravel()])\n",
    "Z = Z.reshape(xx.shape).astype(int)\n",
    "plt.contourf(xx, yy, Z, cmap=plt.cm.coolwarm, alpha=0.8)\n",
    "for n in range(len(lambdas)):\n",
    "    plt.scatter(sub_pops_points[n][:,0], sub_pops_points[n][:,1], label=labels[n])\n",
    "plt.scatter(centroids[:,0], centroids[:,1])\n",
    "plt.legend()\n",
    "plt.show()"
   ]
  },
  {
   "cell_type": "code",
   "execution_count": null,
   "metadata": {},
   "outputs": [],
   "source": [
    "centroids = np.float64([CMAESs[n].parameters.m.reshape((2,)) for n in range(len(lambdas))])\n",
    "print(centroids)\n",
    "svc = svc.fit(centroids, labels)\n",
    "for n in range(len(lambdas)):\n",
    "    CMAESs[n].parameters.svc = svc\n",
    "    CMAESs[n].step()"
   ]
  },
  {
   "cell_type": "code",
   "execution_count": null,
   "metadata": {},
   "outputs": [],
   "source": [
    "temp = np.float64([CMAESs[n].parameters.population.x for n in range(len(lambdas))])\n",
    "sub_pops_points = [None]*len(lambdas)\n",
    "for n in range(len(lambdas)):\n",
    "    sub_pops_points[n] = temp[n].T\n",
    "plt.xlim(-5, 5)\n",
    "plt.ylim(-5, 5)\n",
    "xx, yy = np.meshgrid(np.arange(-6, 6, .2), np.arange(-6, 6, .2))\n",
    "Z = svc.predict(np.c_[xx.ravel(), yy.ravel()])\n",
    "Z = Z.reshape(xx.shape).astype(int)\n",
    "plt.contourf(xx, yy, Z, cmap=plt.cm.coolwarm, alpha=0.8)\n",
    "for n in range(len(lambdas)):\n",
    "    plt.scatter(sub_pops_points[n][:,0], sub_pops_points[n][:,1], label=labels[n])\n",
    "plt.scatter(centroids[:,0], centroids[:,1])\n",
    "plt.legend()\n",
    "plt.show()"
   ]
  },
  {
   "cell_type": "code",
   "execution_count": null,
   "metadata": {},
   "outputs": [],
   "source": [
    "raise ValueError"
   ]
  },
  {
   "cell_type": "code",
   "execution_count": null,
   "metadata": {},
   "outputs": [],
   "source": [
    "for _ in range(1000):\n",
    "    for j in range(len(CMAESs)):\n",
    "        CMAESs[j].step()"
   ]
  },
  {
   "cell_type": "code",
   "execution_count": null,
   "metadata": {},
   "outputs": [],
   "source": [
    "for cma in CMAESs:\n",
    "    print(f\"CMA: f:{cma.parameters.fopt}, {cma._fitness_func.optimum.y}, {cma.parameters.population}\")"
   ]
  }
 ],
 "metadata": {
  "kernelspec": {
   "display_name": "subpop_test",
   "language": "python",
   "name": "python3"
  },
  "language_info": {
   "codemirror_mode": {
    "name": "ipython",
    "version": 3
   },
   "file_extension": ".py",
   "mimetype": "text/x-python",
   "name": "python",
   "nbconvert_exporter": "python",
   "pygments_lexer": "ipython3",
   "version": "3.10.9"
  },
  "orig_nbformat": 4,
  "vscode": {
   "interpreter": {
    "hash": "a0cf603c40c427a9330c056a1d0489f8a2542ff8e527cbf1681d256ad089ef7d"
   }
  }
 },
 "nbformat": 4,
 "nbformat_minor": 2
}
