{
 "cells": [
  {
   "cell_type": "code",
   "execution_count": 1,
   "metadata": {},
   "outputs": [],
   "source": [
    "from scipy.stats import qmc\n",
    "from modcma import ModularCMAES, Parameters, Population\n",
    "import ioh\n",
    "import numpy as np\n",
    "from sklearn.svm import LinearSVC\n",
    "import matplotlib.pyplot as plt"
   ]
  },
  {
   "cell_type": "code",
   "execution_count": 2,
   "metadata": {},
   "outputs": [],
   "source": [
    "problem_id = 3\n",
    "problem_instance = 1\n",
    "dimension = 2\n",
    "# lambdas = [25, 25, 25, 25]\n",
    "lambdas = [50, 50]\n",
    "labels = [str(n) for n in range(1, len(lambdas)+1)]\n",
    "budget = int(dimension * 1e4)\n",
    "iterations = 1000"
   ]
  },
  {
   "cell_type": "code",
   "execution_count": 3,
   "metadata": {},
   "outputs": [],
   "source": [
    "problem = ioh.get_problem(fid=problem_id, instance=problem_instance, dimension=dimension, problem_type=ioh.ProblemType.BBOB)\n",
    "CMAESs = []"
   ]
  },
  {
   "cell_type": "code",
   "execution_count": 4,
   "metadata": {},
   "outputs": [
    {
     "name": "stdout",
     "output_type": "stream",
     "text": [
      "[[-2.57645677  1.48349059]\n",
      " [ 1.69409869 -0.28985905]]\n"
     ]
    }
   ],
   "source": [
    "x0 = np.float64(qmc.scale(qmc.LatinHypercube(d=problem.meta_data.n_variables).random(n=len(lambdas)), l_bounds=problem.bounds.lb, u_bounds=problem.bounds.ub))#.reshape((len(lambdas), problem.meta_data.n_variables, 1))\n",
    "print(x0)"
   ]
  },
  {
   "cell_type": "code",
   "execution_count": 5,
   "metadata": {},
   "outputs": [
    {
     "data": {
      "text/plain": [
       "<matplotlib.collections.PathCollection at 0x7ff5078dc280>"
      ]
     },
     "execution_count": 5,
     "metadata": {},
     "output_type": "execute_result"
    },
    {
     "data": {
      "image/png": "[encoded data removed]",
      "text/plain": [
       "<Figure size 640x480 with 1 Axes>"
      ]
     },
     "metadata": {},
     "output_type": "display_data"
    }
   ],
   "source": [
    "plt.xlim(-6, 6)\n",
    "plt.ylim(-6, 6)\n",
    "plt.scatter(x0[:,0], x0[:,1])"
   ]
  },
  {
   "cell_type": "code",
   "execution_count": 6,
   "metadata": {},
   "outputs": [],
   "source": [
    "svc = LinearSVC(C=1).fit(x0, labels)"
   ]
  },
  {
   "cell_type": "code",
   "execution_count": 7,
   "metadata": {},
   "outputs": [
    {
     "name": "stdout",
     "output_type": "stream",
     "text": [
      "(2, 2, 1) [[[-2.57645677]\n",
      "  [ 1.48349059]]\n",
      "\n",
      " [[ 1.69409869]\n",
      "  [-0.28985905]]]\n"
     ]
    },
    {
     "name": "stderr",
     "output_type": "stream",
     "text": [
      "/Users/ernestvmo/Documents/VS Code Repo/ModularCMAES/modcma/parameters.py:442: RuntimeWarning: invalid value encountered in scalar divide\n",
      "  mueff_neg = self.nweights.sum() ** 2 / (self.nweights ** 2).sum()\n",
      "/Users/ernestvmo/Documents/VS Code Repo/ModularCMAES/modcma/parameters.py:455: RuntimeWarning: divide by zero encountered in scalar divide\n",
      "  min(amu_neg, amueff_neg, aposdef_neg) / np.abs(self.nweights).sum()\n"
     ]
    }
   ],
   "source": [
    "x0 = x0.reshape((len(lambdas), problem.meta_data.n_variables, 1))\n",
    "print(x0.shape, x0)\n",
    "for i in range(len(lambdas)):\n",
    "    # print(lambdas[i], lambdas[i], x0[i], budget)\n",
    "    CMAESs.append(\n",
    "        ModularCMAES(\n",
    "            problem,\n",
    "            parameters=Parameters(\n",
    "                d=problem.meta_data.n_variables,\n",
    "                lambda_=lambdas[i],\n",
    "                mu=lambdas[i],\n",
    "                # x0=x0[i],\n",
    "                sigma0=0.2,\n",
    "                budget=budget,\n",
    "                initialization_correction=\"svm\",\n",
    "                svc=svc,\n",
    "                subpopulation_target=labels[i]\n",
    "            ),\n",
    "        )\n",
    "    )\n"
   ]
  },
  {
   "cell_type": "code",
   "execution_count": 35,
   "metadata": {},
   "outputs": [
    {
     "data": {
      "text/plain": [
       "array([[-7.55520669, 11.39827212],\n",
       "       [ 8.48333937, -5.1086931 ]])"
      ]
     },
     "execution_count": 35,
     "metadata": {},
     "output_type": "execute_result"
    }
   ],
   "source": [
    "centroids = np.float64([CMAESs[n].parameters.m.reshape((2,)) for n in range(len(lambdas))])\n",
    "centroids"
   ]
  },
  {
   "cell_type": "code",
   "execution_count": 36,
   "metadata": {},
   "outputs": [
    {
     "name": "stdout",
     "output_type": "stream",
     "text": [
      "[0, 7, 13, 18, 19, 21, 23, 25, 27, 30, 32, 34, 45]\n",
      "['1'] 1 0\n",
      "['1'] 1 0\n",
      "['1'] 1 0\n",
      "['1'] 1 0\n",
      "['1'] 1 0\n",
      "['1'] 1 0\n",
      "['1'] 1 0\n",
      "['1'] 1 0\n",
      "['1'] 1 0\n",
      "['1'] 1 0\n",
      "['1'] 1 0\n",
      "['1'] 1 0\n",
      "['1'] 1 0\n",
      "[7, 9, 10, 13, 21, 25, 26, 31, 35, 39, 41, 42, 46, 49]\n",
      "['2'] 2 0\n",
      "['1'] 2 0\n",
      "['2'] 2 1\n",
      "['2'] 2 0\n",
      "['2'] 2 0\n",
      "['2'] 2 0\n",
      "['2'] 2 0\n",
      "['2'] 2 0\n",
      "['2'] 2 0\n",
      "['2'] 2 0\n",
      "['2'] 2 0\n",
      "['2'] 2 0\n",
      "['2'] 2 0\n",
      "['2'] 2 0\n",
      "['2'] 2 0\n"
     ]
    }
   ],
   "source": [
    "svc = svc.fit(centroids, labels)\n",
    "for n in range(len(lambdas)):\n",
    "    CMAESs[n].parameters.svc = svc\n",
    "    CMAESs[n].step()"
   ]
  },
  {
   "cell_type": "code",
   "execution_count": 34,
   "metadata": {},
   "outputs": [
    {
     "data": {
      "image/png": "[encoded data removed]",
      "text/plain": [
       "<Figure size 640x480 with 1 Axes>"
      ]
     },
     "metadata": {},
     "output_type": "display_data"
    }
   ],
   "source": [
    "temp = np.float64([CMAESs[n].parameters.population.x for n in range(len(lambdas))])\n",
    "sub_pops_points = [None]*len(lambdas)\n",
    "for n in range(len(lambdas)):\n",
    "    sub_pops_points[n] = temp[n].T\n",
    "plt.xlim(-6, 6)\n",
    "plt.ylim(-6, 6)\n",
    "xx, yy = np.meshgrid(np.arange(-6, 6, .2), np.arange(-6, 6, .2))\n",
    "Z = svc.predict(np.c_[xx.ravel(), yy.ravel()])\n",
    "Z = Z.reshape(xx.shape).astype(int)\n",
    "plt.contourf(xx, yy, Z, cmap=plt.cm.coolwarm, alpha=0.8)\n",
    "for n in range(len(lambdas)):\n",
    "    plt.scatter(sub_pops_points[n][:,0], sub_pops_points[n][:,1], label=labels[n])\n",
    "plt.scatter(centroids[:,0], centroids[:,1])\n",
    "plt.legend()\n",
    "plt.show()"
   ]
  },
  {
   "cell_type": "code",
   "execution_count": 11,
   "metadata": {},
   "outputs": [
    {
     "name": "stdout",
     "output_type": "stream",
     "text": [
      "[[ 3.62418485  3.74973065]\n",
      " [-1.91986752  0.08685851]]\n",
      "[3, 8, 10, 12, 13, 18, 19, 20, 30, 31, 34, 36, 37, 38, 43, 46, 48]\n",
      "['1'] 1 0\n",
      "['1'] 1 0\n",
      "['1'] 1 0\n",
      "['1'] 1 0\n",
      "['2'] 1 0\n",
      "['1'] 1 1\n",
      "['1'] 1 0\n",
      "['1'] 1 0\n",
      "['1'] 1 0\n",
      "['1'] 1 0\n",
      "['1'] 1 0\n",
      "['1'] 1 0\n",
      "['1'] 1 0\n",
      "['1'] 1 0\n",
      "['1'] 1 0\n",
      "['1'] 1 0\n",
      "['1'] 1 0\n",
      "['1'] 1 0\n",
      "[5, 10, 13, 14, 17, 20, 29, 30, 32, 42, 46]\n",
      "['2'] 2 0\n",
      "['2'] 2 0\n",
      "['2'] 2 0\n",
      "['2'] 2 0\n",
      "['2'] 2 0\n",
      "['2'] 2 0\n",
      "['2'] 2 0\n",
      "['2'] 2 0\n",
      "['2'] 2 0\n",
      "['2'] 2 0\n",
      "['2'] 2 0\n"
     ]
    }
   ],
   "source": [
    "centroids = np.float64([CMAESs[n].parameters.m.reshape((2,)) for n in range(len(lambdas))])\n",
    "print(centroids)\n",
    "svc = svc.fit(centroids, labels)\n",
    "for n in range(len(lambdas)):\n",
    "    CMAESs[n].parameters.svc = svc\n",
    "    CMAESs[n].step()"
   ]
  },
  {
   "cell_type": "code",
   "execution_count": 12,
   "metadata": {},
   "outputs": [
    {
     "data": {
      "image/png": "[encoded data removed]",
      "text/plain": [
       "<Figure size 640x480 with 1 Axes>"
      ]
     },
     "metadata": {},
     "output_type": "display_data"
    }
   ],
   "source": [
    "temp = np.float64([CMAESs[n].parameters.population.x for n in range(len(lambdas))])\n",
    "sub_pops_points = [None]*len(lambdas)\n",
    "for n in range(len(lambdas)):\n",
    "    sub_pops_points[n] = temp[n].T\n",
    "plt.xlim(-6, 6)\n",
    "plt.ylim(-6, 6)\n",
    "xx, yy = np.meshgrid(np.arange(-6, 6, .2), np.arange(-6, 6, .2))\n",
    "Z = svc.predict(np.c_[xx.ravel(), yy.ravel()])\n",
    "Z = Z.reshape(xx.shape).astype(int)\n",
    "plt.contourf(xx, yy, Z, cmap=plt.cm.coolwarm, alpha=0.8)\n",
    "for n in range(len(lambdas)):\n",
    "    plt.scatter(sub_pops_points[n][:,0], sub_pops_points[n][:,1], label=labels[n])\n",
    "plt.scatter(centroids[:,0], centroids[:,1])\n",
    "plt.legend()\n",
    "plt.show()"
   ]
  },
  {
   "cell_type": "code",
   "execution_count": 13,
   "metadata": {},
   "outputs": [
    {
     "ename": "ValueError",
     "evalue": "",
     "output_type": "error",
     "traceback": [
      "\u001b[0;31m---------------------------------------------------------------------------\u001b[0m",
      "\u001b[0;31mValueError\u001b[0m                                Traceback (most recent call last)",
      "Cell \u001b[0;32mIn[13], line 1\u001b[0m\n\u001b[0;32m----> 1\u001b[0m \u001b[39mraise\u001b[39;00m \u001b[39mValueError\u001b[39;00m\n",
      "\u001b[0;31mValueError\u001b[0m: "
     ]
    }
   ],
   "source": [
    "raise ValueError"
   ]
  },
  {
   "cell_type": "code",
   "execution_count": null,
   "metadata": {},
   "outputs": [],
   "source": [
    "for _ in range(1000):\n",
    "    for j in range(len(CMAESs)):\n",
    "        CMAESs[j].step()"
   ]
  },
  {
   "cell_type": "code",
   "execution_count": null,
   "metadata": {},
   "outputs": [],
   "source": [
    "for cma in CMAESs:\n",
    "    print(f\"CMA: f:{cma.parameters.fopt}, {cma._fitness_func.optimum.y}, {cma.parameters.population}\")"
   ]
  }
 ],
 "metadata": {
  "kernelspec": {
   "display_name": "subpop_test",
   "language": "python",
   "name": "python3"
  },
  "language_info": {
   "codemirror_mode": {
    "name": "ipython",
    "version": 3
   },
   "file_extension": ".py",
   "mimetype": "text/x-python",
   "name": "python",
   "nbconvert_exporter": "python",
   "pygments_lexer": "ipython3",
   "version": "3.10.9"
  },
  "orig_nbformat": 4,
  "vscode": {
   "interpreter": {
    "hash": "a0cf603c40c427a9330c056a1d0489f8a2542ff8e527cbf1681d256ad089ef7d"
   }
  }
 },
 "nbformat": 4,
 "nbformat_minor": 2
}
