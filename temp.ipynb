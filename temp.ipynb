{
 "cells": [
  {
   "cell_type": "code",
   "execution_count": 1,
   "metadata": {},
   "outputs": [],
   "source": [
    "import ioh\n",
    "import numpy as np\n",
    "import modcma\n",
    "import random as r"
   ]
  },
  {
   "cell_type": "code",
   "execution_count": 2,
   "metadata": {},
   "outputs": [],
   "source": [
    "f = ioh.get_problem(fid=2, instance=1, dimension=5, problem_type=ioh.ProblemType.BBOB)"
   ]
  },
  {
   "cell_type": "code",
   "execution_count": 3,
   "metadata": {},
   "outputs": [
    {
     "data": {
      "text/plain": [
       "<State evaluations: 0 optimum_found: false current_best: <Solution x: [nan, nan, nan, nan, nan] y: inf>>"
      ]
     },
     "execution_count": 3,
     "metadata": {},
     "output_type": "execute_result"
    }
   ],
   "source": [
    "f.state"
   ]
  },
  {
   "cell_type": "code",
   "execution_count": 4,
   "metadata": {},
   "outputs": [],
   "source": [
    "# initial_pop = np.array([r.uniform(f.bounds.lb[0], f.bounds.ub[0]) for _ in range(len(f.bounds.lb)*10)]).reshape((5, 10))\n",
    "initial_pop = np.float64(np.random.uniform(f.bounds.lb[0], f.bounds.ub[0], (f.meta_data.n_variables, 1)))"
   ]
  },
  {
   "cell_type": "code",
   "execution_count": 5,
   "metadata": {},
   "outputs": [
    {
     "data": {
      "text/plain": [
       "array([[ 1.65295784],\n",
       "       [-4.17532663],\n",
       "       [-4.29109666],\n",
       "       [-0.56129481],\n",
       "       [-2.83043699]])"
      ]
     },
     "execution_count": 5,
     "metadata": {},
     "output_type": "execute_result"
    }
   ],
   "source": [
    "initial_pop"
   ]
  },
  {
   "cell_type": "code",
   "execution_count": 6,
   "metadata": {},
   "outputs": [
    {
     "name": "stderr",
     "output_type": "stream",
     "text": [
      "/Users/ernestvmo/Documents/VS Code Repo/ModularCMAES/modcma/parameters.py:433: RuntimeWarning: invalid value encountered in scalar divide\n",
      "  mueff_neg = self.nweights.sum() ** 2 / (self.nweights ** 2).sum()\n",
      "/Users/ernestvmo/Documents/VS Code Repo/ModularCMAES/modcma/parameters.py:446: RuntimeWarning: divide by zero encountered in scalar divide\n",
      "  min(amu_neg, amueff_neg, aposdef_neg) / np.abs(self.nweights).sum()\n",
      "/Users/ernestvmo/Documents/VS Code Repo/ModularCMAES/modcma/parameters.py:465: RuntimeWarning: invalid value encountered in sqrt\n",
      "  2.0 * max(0.0, np.sqrt((self.mueff - 1) / (self.d + 1)) - 1) + self.cs\n"
     ]
    }
   ],
   "source": [
    "# random_search(f_3_10, budget=10)\n",
    "params = modcma.Parameters(d=f.meta_data.n_variables, lambda_=10, mu=10, budget=1000, x0=initial_pop)\n",
    "CMA = modcma.ModularCMAES(fitness_func=f, parameters=params)"
   ]
  },
  {
   "cell_type": "code",
   "execution_count": 7,
   "metadata": {},
   "outputs": [
    {
     "data": {
      "text/plain": [
       "array([[ 1.65295784],\n",
       "       [-4.17532663],\n",
       "       [-4.29109666],\n",
       "       [-0.56129481],\n",
       "       [-2.83043699]])"
      ]
     },
     "execution_count": 7,
     "metadata": {},
     "output_type": "execute_result"
    }
   ],
   "source": [
    "CMA.parameters.x0"
   ]
  },
  {
   "cell_type": "code",
   "execution_count": 8,
   "metadata": {},
   "outputs": [
    {
     "data": {
      "text/plain": [
       "<State evaluations: 0 optimum_found: false current_best: <Solution x: [nan, nan, nan, nan, nan] y: inf>>"
      ]
     },
     "execution_count": 8,
     "metadata": {},
     "output_type": "execute_result"
    }
   ],
   "source": [
    "f.state"
   ]
  },
  {
   "cell_type": "code",
   "execution_count": 9,
   "metadata": {},
   "outputs": [],
   "source": [
    "for i in range(10000):\n",
    "    CMA.step()"
   ]
  },
  {
   "cell_type": "code",
   "execution_count": 10,
   "metadata": {},
   "outputs": [
    {
     "data": {
      "text/plain": [
       "<State evaluations: 100000 optimum_found: false current_best: <Solution x: [-0.4975258094342275, -0.04092740515708182, 4.92285265323851, 2.3187371677297612, 1.7770288571231536] y: 1976.3413574340766>>"
      ]
     },
     "execution_count": 10,
     "metadata": {},
     "output_type": "execute_result"
    }
   ],
   "source": [
    "f.state"
   ]
  },
  {
   "cell_type": "code",
   "execution_count": 11,
   "metadata": {},
   "outputs": [
    {
     "data": {
      "text/plain": [
       "<State evaluations: 100000 optimum_found: false current_best: <Solution x: [-0.4975258094342275, -0.04092740515708182, 4.92285265323851, 2.3187371677297612, 1.7770288571231536] y: 1976.3413574340766>>"
      ]
     },
     "execution_count": 11,
     "metadata": {},
     "output_type": "execute_result"
    }
   ],
   "source": [
    "CMA._fitness_func.state"
   ]
  },
  {
   "cell_type": "code",
   "execution_count": 12,
   "metadata": {},
   "outputs": [
    {
     "data": {
      "text/plain": [
       "(5, 10)"
      ]
     },
     "execution_count": 12,
     "metadata": {},
     "output_type": "execute_result"
    }
   ],
   "source": [
    "CMA.parameters.population.x.shape"
   ]
  },
  {
   "cell_type": "code",
   "execution_count": 13,
   "metadata": {},
   "outputs": [
    {
     "data": {
      "text/plain": [
       "array([[ 8.17374314e+00,  8.05549639e+00,  7.91588409e+00,\n",
       "         7.77694303e+00,  7.58813787e+00,  7.59116957e+00,\n",
       "         7.52397835e+00,  7.12948503e+00,  6.89736731e+00,\n",
       "         6.52897016e+00],\n",
       "       [-1.05647930e+00, -1.16664135e+00, -1.22625919e+00,\n",
       "        -1.29863830e+00, -1.42841859e+00, -1.39583148e+00,\n",
       "        -1.45875606e+00, -1.66995302e+00, -1.83995997e+00,\n",
       "        -2.04621591e+00],\n",
       "       [ 2.24888190e+00,  1.26866354e+00,  1.96895687e-03,\n",
       "        -1.21826114e+00, -2.83159604e+00, -2.86839255e+00,\n",
       "        -3.41056861e+00, -6.89946347e+00, -8.86113587e+00,\n",
       "        -1.21034810e+01],\n",
       "       [ 1.39813033e+00,  4.13449727e+00,  7.55041584e+00,\n",
       "         1.08715049e+01,  1.53113605e+01,  1.53573844e+01,\n",
       "         1.68804970e+01,  2.63700682e+01,  3.17899725e+01,\n",
       "         4.06261020e+01],\n",
       "       [-8.52988679e-01,  4.74702656e+00,  1.16656325e+01,\n",
       "         1.84057407e+01,  2.74468444e+01,  2.75102775e+01,\n",
       "         3.06285738e+01,  4.98919664e+01,  6.09394899e+01,\n",
       "         7.88855991e+01]])"
      ]
     },
     "execution_count": 13,
     "metadata": {},
     "output_type": "execute_result"
    }
   ],
   "source": [
    "CMA.parameters.population.x"
   ]
  },
  {
   "cell_type": "code",
   "execution_count": 14,
   "metadata": {},
   "outputs": [
    {
     "data": {
      "text/plain": [
       "(array([-0.49752581, -0.04092741,  4.92285265,  2.31873717,  1.77702886]),\n",
       " 1976.3413574340766,\n",
       " 1976.3413574340766)"
      ]
     },
     "execution_count": 14,
     "metadata": {},
     "output_type": "execute_result"
    }
   ],
   "source": [
    "CMA.parameters.xopt, CMA.parameters.fopt, f(CMA.parameters.xopt)"
   ]
  }
 ],
 "metadata": {
  "kernelspec": {
   "display_name": "Python 3",
   "language": "python",
   "name": "python3"
  },
  "language_info": {
   "codemirror_mode": {
    "name": "ipython",
    "version": 3
   },
   "file_extension": ".py",
   "mimetype": "text/x-python",
   "name": "python",
   "nbconvert_exporter": "python",
   "pygments_lexer": "ipython3",
   "version": "3.10.9"
  },
  "orig_nbformat": 4,
  "vscode": {
   "interpreter": {
    "hash": "833756e8be1e6d39f0a9fcbfb0817e49807b87e09dd464d15bf74b5faf389e82"
   }
  }
 },
 "nbformat": 4,
 "nbformat_minor": 2
}
